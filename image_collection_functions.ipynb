{
 "cells": [
  {
   "cell_type": "code",
   "execution_count": 1,
   "metadata": {},
   "outputs": [],
   "source": [
    "import requests\n",
    "import pandas as pd"
   ]
  },
  {
   "cell_type": "code",
   "execution_count": null,
   "metadata": {},
   "outputs": [],
   "source": [
    "#Google static maps API\n",
    "api_key = \"redacted\""
   ]
  },
  {
   "cell_type": "code",
   "execution_count": null,
   "metadata": {},
   "outputs": [],
   "source": [
    "#Converts inputted dataframe into URL-escaped format for Google API (expects 'address', 'city', and 'state' columns)\n",
    "def convert_frame(df):\n",
    "    df_copy=df.copy(deep=True)\n",
    "    import urllib.parse\n",
    "    address_list=[]\n",
    "    for elem in df_copy['address']:\n",
    "        address_list.append(urllib.parse.quote_plus(elem))\n",
    "    df_copy['address']=address_list\n",
    "    city_list=[]\n",
    "    for elem in df_copy['city']:\n",
    "        city_list.append(urllib.parse.quote_plus(elem))\n",
    "    df_copy['city']=city_list\n",
    "    df_formatted=df_copy['address']+','+df_copy['city']+','+df_copy['state']\n",
    "    return df_formatted"
   ]
  },
  {
   "cell_type": "code",
   "execution_count": null,
   "metadata": {},
   "outputs": [],
   "source": [
    "#Converts given dataframe into URL-escaped format ('Latitude' and 'Longitude' columns)\n",
    "def convert_frame_chords(df):\n",
    "    df_formatted=df['Latitude'].astype(str)+'+'+df['Longitude'].astype(str)\n",
    "    return df_formatted"
   ]
  },
  {
   "cell_type": "code",
   "execution_count": null,
   "metadata": {},
   "outputs": [],
   "source": [
    "#Feeds dataset into Google Static Maps API at given zoom leveland saves satellite images into given folder (expects dataset in URL-escaped format)\n",
    "def fetch_roofs(formatted,folder_name,zoom):\n",
    "    import time\n",
    "    import os\n",
    "    for elem in formatted:\n",
    "        place=str(elem)\n",
    "        if not os.path.exists('/users/ericphillips/Google Drive/Google_API_images/{}'.format(folder_name)): #Check if folder exists\n",
    "            os.makedirs('/users/ericphillips/Google Drive/Google_API_images/{}'.format(folder_name)) #Create folder if doesn't exist\n",
    "        f=open('/users/ericphillips/Google Drive/Google_API_images/{}/'.format(folder_name)+place+'.png','wb')\n",
    "        zoom=str(zoom)\n",
    "        f.write(requests.get('https://maps.googleapis.com/maps/api/staticmap?center='+place+'&zoom='+zoom+'&size=320x320&maptype=satellite&scale=4&format=png&key='+api_key).content)\n",
    "        time.sleep(.1)\n",
    "        f.close()"
   ]
  },
  {
   "cell_type": "code",
   "execution_count": null,
   "metadata": {},
   "outputs": [],
   "source": [
    "#Images pulled with size 320×320 pixels and zoom level 21"
   ]
  }
 ],
 "metadata": {
  "kernelspec": {
   "display_name": "Python 3",
   "language": "python",
   "name": "python3"
  },
  "language_info": {
   "codemirror_mode": {
    "name": "ipython",
    "version": 3
   },
   "file_extension": ".py",
   "mimetype": "text/x-python",
   "name": "python",
   "nbconvert_exporter": "python",
   "pygments_lexer": "ipython3",
   "version": "3.7.7"
  }
 },
 "nbformat": 4,
 "nbformat_minor": 4
}
